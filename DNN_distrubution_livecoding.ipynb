{
 "cells": [
  {
   "cell_type": "markdown",
   "metadata": {},
   "source": [
    "# KerasによるDeep Neural Network実装(MNIST)\n",
    "PythonのDeep Learningライブラリ Kerasを用いてDeep Neural Networkの実装をします．"
   ]
  },
  {
   "cell_type": "code",
   "execution_count": 1,
   "metadata": {},
   "outputs": [
    {
     "name": "stderr",
     "output_type": "stream",
     "text": [
      "Using TensorFlow backend.\n"
     ]
    }
   ],
   "source": [
    "# ディープラーニングモジュール\n",
    "import keras\n",
    "from keras.datasets import mnist\n",
    "from keras.models import Sequential\n",
    "from keras.layers import Dense, Dropout, Activation\n",
    "from keras.optimizers import SGD\n",
    "\n",
    "# 行列/ベクトル計算モジュール\n",
    "import numpy as np\n",
    "\n",
    "# 可視化モジュール\n",
    "import matplotlib.pyplot as plt\n",
    "import seaborn as sns\n",
    "\n",
    "# モデルの読み書きモジュール\n",
    "import h5py\n",
    "\n",
    "# Juputer Notebookで画像を表示するためのコマンド\n",
    "%matplotlib inline"
   ]
  },
  {
   "cell_type": "markdown",
   "metadata": {},
   "source": [
    "- `keras.layers` からは，ディープラーニングで用いることのできる様々なレイヤーをimportできます．特に基本的なレイヤーは，`keras.layers.core`にまとめられています．詳細は公式リファレンスを参照してください．\n",
    "\n",
    "Core Layers: https://keras.io/ja/layers/core/"
   ]
  },
  {
   "cell_type": "markdown",
   "metadata": {},
   "source": [
    "## 1. データの準備"
   ]
  },
  {
   "cell_type": "markdown",
   "metadata": {},
   "source": [
    "- MNISTをはじめ，いくつかのデータセットはKerasからimportすることができます．\n"
   ]
  },
  {
   "cell_type": "code",
   "execution_count": 3,
   "metadata": {
    "collapsed": true
   },
   "outputs": [],
   "source": [
    "(x_train, y_train), (x_test, y_test) = mnist.load_data()"
   ]
  },
  {
   "cell_type": "markdown",
   "metadata": {},
   "source": [
    "- ほとんどの場合，データセットの前処理が必要です．ロードしたデータのshapeを確認し，学習に適した形式に変換します．"
   ]
  },
  {
   "cell_type": "code",
   "execution_count": 4,
   "metadata": {},
   "outputs": [
    {
     "name": "stdout",
     "output_type": "stream",
     "text": [
      "x_train: (60000, 28, 28)\n",
      "y_train: (60000,)\n",
      "x_test: (10000, 28, 28)\n",
      "y_test: (10000,)\n"
     ]
    }
   ],
   "source": [
    "print(\"x_train:\",x_train.shape)\n",
    "print(\"y_train:\",y_train.shape)\n",
    "print(\"x_test:\",x_test.shape)\n",
    "print(\"y_test:\",y_test.shape)"
   ]
  },
  {
   "cell_type": "code",
   "execution_count": 5,
   "metadata": {
    "collapsed": true
   },
   "outputs": [],
   "source": [
    "# 28x28 の行列を 784x1 のベクトルに変換してください \n",
    "\n"
   ]
  },
  {
   "cell_type": "markdown",
   "metadata": {},
   "source": [
    "- 画素値の正規化を行います．通常$0-255$の値をとる画素値を，$0-1$の範囲に変換します．"
   ]
  },
  {
   "cell_type": "code",
   "execution_count": 6,
   "metadata": {
    "collapsed": true
   },
   "outputs": [],
   "source": [
    "x_train = x_train.astype('float32')\n",
    "x_test = x_test.astype('float32')\n",
    "x_train /= 255\n",
    "x_test /= 255"
   ]
  },
  {
   "cell_type": "markdown",
   "metadata": {},
   "source": [
    "- クラス分類タスクでは，正解ラベルをOne-hot Label形式で表現します．kerasでは，`keras.utils.to_categorical`関数で変換できます．"
   ]
  },
  {
   "cell_type": "code",
   "execution_count": 7,
   "metadata": {},
   "outputs": [
    {
     "data": {
      "text/plain": [
       "array([5, 0, 4, 1, 9, 2, 1, 3, 1, 4], dtype=uint8)"
      ]
     },
     "execution_count": 7,
     "metadata": {},
     "output_type": "execute_result"
    }
   ],
   "source": [
    "# 変換前\n",
    "\n",
    "y_train[:10]"
   ]
  },
  {
   "cell_type": "code",
   "execution_count": 8,
   "metadata": {
    "collapsed": true
   },
   "outputs": [],
   "source": [
    "y_train = keras.utils.to_categorical(y_train, 10)\n",
    "y_test = keras.utils.to_categorical(y_test, 10)"
   ]
  },
  {
   "cell_type": "code",
   "execution_count": 9,
   "metadata": {},
   "outputs": [
    {
     "data": {
      "text/plain": [
       "array([[ 0.,  0.,  0.,  0.,  0.,  1.,  0.,  0.,  0.,  0.],\n",
       "       [ 1.,  0.,  0.,  0.,  0.,  0.,  0.,  0.,  0.,  0.],\n",
       "       [ 0.,  0.,  0.,  0.,  1.,  0.,  0.,  0.,  0.,  0.],\n",
       "       [ 0.,  1.,  0.,  0.,  0.,  0.,  0.,  0.,  0.,  0.],\n",
       "       [ 0.,  0.,  0.,  0.,  0.,  0.,  0.,  0.,  0.,  1.],\n",
       "       [ 0.,  0.,  1.,  0.,  0.,  0.,  0.,  0.,  0.,  0.],\n",
       "       [ 0.,  1.,  0.,  0.,  0.,  0.,  0.,  0.,  0.,  0.],\n",
       "       [ 0.,  0.,  0.,  1.,  0.,  0.,  0.,  0.,  0.,  0.],\n",
       "       [ 0.,  1.,  0.,  0.,  0.,  0.,  0.,  0.,  0.,  0.],\n",
       "       [ 0.,  0.,  0.,  0.,  1.,  0.,  0.,  0.,  0.,  0.]])"
      ]
     },
     "execution_count": 9,
     "metadata": {},
     "output_type": "execute_result"
    }
   ],
   "source": [
    "# 変換後\n",
    "\n",
    "y_train[:10]"
   ]
  },
  {
   "cell_type": "markdown",
   "metadata": {},
   "source": [
    "- 最後に，データセットの次元を確認します．"
   ]
  },
  {
   "cell_type": "code",
   "execution_count": 10,
   "metadata": {},
   "outputs": [
    {
     "name": "stdout",
     "output_type": "stream",
     "text": [
      "x_train: (60000, 784)\n",
      "y_train: (60000, 10)\n",
      "x_test: (10000, 784)\n",
      "y_test: (10000, 10)\n"
     ]
    }
   ],
   "source": [
    "print(\"x_train:\",x_train.shape)\n",
    "print(\"y_train:\",y_train.shape)\n",
    "print(\"x_test:\",x_test.shape)\n",
    "print(\"y_test:\",y_test.shape)"
   ]
  },
  {
   "cell_type": "markdown",
   "metadata": {},
   "source": [
    "## 2. モデル構築"
   ]
  },
  {
   "cell_type": "markdown",
   "metadata": {},
   "source": [
    "- SequentialモデルでDNNを構築します．`model = Sequential()`でSequentialモデルを宣言します．\n",
    "- 一つのレイヤーは`Dense`レイヤーを追加することで実装できます．`Dense`では，ユニット数と活性化を指定できます．\n",
    "- 一番初めの層だけは`input_shape`引数が必要です．入力の次元を指定します．"
   ]
  },
  {
   "cell_type": "code",
   "execution_count": 79,
   "metadata": {
    "collapsed": true,
    "scrolled": false
   },
   "outputs": [],
   "source": [
    "#モデル構築\n",
    "\n",
    "# 入力層〜中間層\n",
    "\n",
    "# 出力層\n"
   ]
  },
  {
   "cell_type": "markdown",
   "metadata": {},
   "source": [
    "- `model.summary()`関数で，構築したモデルの概要が確認できます．"
   ]
  },
  {
   "cell_type": "code",
   "execution_count": 80,
   "metadata": {},
   "outputs": [
    {
     "name": "stdout",
     "output_type": "stream",
     "text": [
      "_________________________________________________________________\n",
      "Layer (type)                 Output Shape              Param #   \n",
      "=================================================================\n",
      "dense_49 (Dense)             (None, 512)               401920    \n",
      "_________________________________________________________________\n",
      "dropout_7 (Dropout)          (None, 512)               0         \n",
      "_________________________________________________________________\n",
      "dense_50 (Dense)             (None, 256)               131328    \n",
      "_________________________________________________________________\n",
      "dropout_8 (Dropout)          (None, 256)               0         \n",
      "_________________________________________________________________\n",
      "dense_51 (Dense)             (None, 128)               32896     \n",
      "_________________________________________________________________\n",
      "dropout_9 (Dropout)          (None, 128)               0         \n",
      "_________________________________________________________________\n",
      "dense_52 (Dense)             (None, 10)                1290      \n",
      "=================================================================\n",
      "Total params: 567,434\n",
      "Trainable params: 567,434\n",
      "Non-trainable params: 0\n",
      "_________________________________________________________________\n"
     ]
    }
   ],
   "source": [
    "model.summary()"
   ]
  },
  {
   "cell_type": "markdown",
   "metadata": {},
   "source": [
    "- 構築したモデルをコンパイルします．コンパイルには，損失関数，最適化手法と評価関数が設定できます．\n",
    "- 損失関数は次のものが使用できます: https://keras.io/ja/losses/\n",
    "- 最適化手法は次のものが使用できます: https://keras.io/ja/optimizers/\n",
    "- 評価関数は，未指定の場合はlossが採用されます．その他いくつか使用可能なものがありますが，一般にはaccuracyを用いると良いでしょう．"
   ]
  },
  {
   "cell_type": "code",
   "execution_count": 81,
   "metadata": {
    "collapsed": true
   },
   "outputs": [],
   "source": []
  },
  {
   "cell_type": "markdown",
   "metadata": {},
   "source": [
    "- バッチサイズ，エポック数を指定し，`model.fit`関数で学習を開始できます．\n",
    "- `model.fit`をもう一度実行すると，前回の学習状態からスタートします．リセットしたい場合は，`model.reset_states()`を再実行してから`model.fit`を実行します．"
   ]
  },
  {
   "cell_type": "code",
   "execution_count": 82,
   "metadata": {
    "collapsed": true
   },
   "outputs": [],
   "source": [
    "# バッチサイズ\n",
    "batch_size = 10000\n",
    "\n",
    "# エポック数\n",
    "epochs = 50"
   ]
  },
  {
   "cell_type": "code",
   "execution_count": 83,
   "metadata": {
    "scrolled": true
   },
   "outputs": [
    {
     "name": "stdout",
     "output_type": "stream",
     "text": [
      "Train on 60000 samples, validate on 10000 samples\n",
      "Epoch 1/50\n",
      "60000/60000 [==============================] - 7s - loss: 1.6689 - acc: 0.4890 - val_loss: 0.7443 - val_acc: 0.8300\n",
      "Epoch 2/50\n",
      "60000/60000 [==============================] - 6s - loss: 0.7415 - acc: 0.7696 - val_loss: 0.4097 - val_acc: 0.8800\n",
      "Epoch 3/50\n",
      "60000/60000 [==============================] - 5s - loss: 0.5099 - acc: 0.8400 - val_loss: 0.3183 - val_acc: 0.9058\n",
      "Epoch 4/50\n",
      "60000/60000 [==============================] - 6s - loss: 0.3921 - acc: 0.8809 - val_loss: 0.2704 - val_acc: 0.9186\n",
      "Epoch 5/50\n",
      "60000/60000 [==============================] - 7s - loss: 0.3363 - acc: 0.8987 - val_loss: 0.2385 - val_acc: 0.9281\n",
      "Epoch 6/50\n",
      "60000/60000 [==============================] - 6s - loss: 0.2950 - acc: 0.9113 - val_loss: 0.2141 - val_acc: 0.9349\n",
      "Epoch 7/50\n",
      "60000/60000 [==============================] - 5s - loss: 0.2666 - acc: 0.9206 - val_loss: 0.1936 - val_acc: 0.9406\n",
      "Epoch 8/50\n",
      "60000/60000 [==============================] - 6s - loss: 0.2428 - acc: 0.9274 - val_loss: 0.1761 - val_acc: 0.9441\n",
      "Epoch 9/50\n",
      "60000/60000 [==============================] - 6s - loss: 0.2248 - acc: 0.9324 - val_loss: 0.1625 - val_acc: 0.9487\n",
      "Epoch 10/50\n",
      "60000/60000 [==============================] - 6s - loss: 0.2086 - acc: 0.9379 - val_loss: 0.1511 - val_acc: 0.9535\n",
      "Epoch 11/50\n",
      "60000/60000 [==============================] - 5s - loss: 0.1974 - acc: 0.9413 - val_loss: 0.1426 - val_acc: 0.9554\n",
      "Epoch 12/50\n",
      "60000/60000 [==============================] - 6s - loss: 0.1841 - acc: 0.9450 - val_loss: 0.1339 - val_acc: 0.9582\n",
      "Epoch 13/50\n",
      "60000/60000 [==============================] - 5s - loss: 0.1754 - acc: 0.9477 - val_loss: 0.1276 - val_acc: 0.9603\n",
      "Epoch 14/50\n",
      "60000/60000 [==============================] - 5s - loss: 0.1662 - acc: 0.9499 - val_loss: 0.1207 - val_acc: 0.9621\n",
      "Epoch 15/50\n",
      "60000/60000 [==============================] - 5s - loss: 0.1580 - acc: 0.9533 - val_loss: 0.1153 - val_acc: 0.9638\n",
      "Epoch 16/50\n",
      "60000/60000 [==============================] - 5s - loss: 0.1487 - acc: 0.9555 - val_loss: 0.1116 - val_acc: 0.9651\n",
      "Epoch 17/50\n",
      "60000/60000 [==============================] - 6s - loss: 0.1425 - acc: 0.9578 - val_loss: 0.1072 - val_acc: 0.9661\n",
      "Epoch 18/50\n",
      "60000/60000 [==============================] - 5s - loss: 0.1364 - acc: 0.9592 - val_loss: 0.1032 - val_acc: 0.9670\n",
      "Epoch 19/50\n",
      "60000/60000 [==============================] - 5s - loss: 0.1310 - acc: 0.9607 - val_loss: 0.1008 - val_acc: 0.9686\n",
      "Epoch 20/50\n",
      "60000/60000 [==============================] - 5s - loss: 0.1255 - acc: 0.9613 - val_loss: 0.0986 - val_acc: 0.9686\n",
      "Epoch 21/50\n",
      "60000/60000 [==============================] - 5s - loss: 0.1205 - acc: 0.9636 - val_loss: 0.0952 - val_acc: 0.9688\n",
      "Epoch 22/50\n",
      "60000/60000 [==============================] - 5s - loss: 0.1180 - acc: 0.9638 - val_loss: 0.0924 - val_acc: 0.9709\n",
      "Epoch 23/50\n",
      "60000/60000 [==============================] - 5s - loss: 0.1126 - acc: 0.9654 - val_loss: 0.0896 - val_acc: 0.9713\n",
      "Epoch 24/50\n",
      "60000/60000 [==============================] - 5s - loss: 0.1087 - acc: 0.9667 - val_loss: 0.0871 - val_acc: 0.9711\n",
      "Epoch 25/50\n",
      "60000/60000 [==============================] - 5s - loss: 0.1038 - acc: 0.9680 - val_loss: 0.0853 - val_acc: 0.9722\n",
      "Epoch 26/50\n",
      "60000/60000 [==============================] - 6s - loss: 0.1021 - acc: 0.9686 - val_loss: 0.0843 - val_acc: 0.9726\n",
      "Epoch 27/50\n",
      "60000/60000 [==============================] - 5s - loss: 0.0985 - acc: 0.9696 - val_loss: 0.0823 - val_acc: 0.9733\n",
      "Epoch 28/50\n",
      "60000/60000 [==============================] - 5s - loss: 0.0937 - acc: 0.9710 - val_loss: 0.0793 - val_acc: 0.9742\n",
      "Epoch 29/50\n",
      "60000/60000 [==============================] - 6s - loss: 0.0902 - acc: 0.9717 - val_loss: 0.0789 - val_acc: 0.9743\n",
      "Epoch 30/50\n",
      "60000/60000 [==============================] - 5s - loss: 0.0915 - acc: 0.9718 - val_loss: 0.0788 - val_acc: 0.9751\n",
      "Epoch 31/50\n",
      "60000/60000 [==============================] - 5s - loss: 0.0859 - acc: 0.9732 - val_loss: 0.0767 - val_acc: 0.9747\n",
      "Epoch 32/50\n",
      "60000/60000 [==============================] - 5s - loss: 0.0825 - acc: 0.9740 - val_loss: 0.0738 - val_acc: 0.9755\n",
      "Epoch 33/50\n",
      "60000/60000 [==============================] - 6s - loss: 0.0811 - acc: 0.9740 - val_loss: 0.0731 - val_acc: 0.9763\n",
      "Epoch 34/50\n",
      "60000/60000 [==============================] - 6s - loss: 0.0787 - acc: 0.9753 - val_loss: 0.0718 - val_acc: 0.9764\n",
      "Epoch 35/50\n",
      "60000/60000 [==============================] - 5s - loss: 0.0745 - acc: 0.9770 - val_loss: 0.0725 - val_acc: 0.9760\n",
      "Epoch 36/50\n",
      "60000/60000 [==============================] - 5s - loss: 0.0738 - acc: 0.9767 - val_loss: 0.0721 - val_acc: 0.9769\n",
      "Epoch 37/50\n",
      "60000/60000 [==============================] - 6s - loss: 0.0751 - acc: 0.9769 - val_loss: 0.0702 - val_acc: 0.9775\n",
      "Epoch 38/50\n",
      "60000/60000 [==============================] - 6s - loss: 0.0713 - acc: 0.9773 - val_loss: 0.0699 - val_acc: 0.9783\n",
      "Epoch 39/50\n",
      "60000/60000 [==============================] - 5s - loss: 0.0685 - acc: 0.9788 - val_loss: 0.0675 - val_acc: 0.9781\n",
      "Epoch 40/50\n",
      "60000/60000 [==============================] - 5s - loss: 0.0669 - acc: 0.9791 - val_loss: 0.0674 - val_acc: 0.9789\n",
      "Epoch 41/50\n",
      "60000/60000 [==============================] - 5s - loss: 0.0667 - acc: 0.9794 - val_loss: 0.0660 - val_acc: 0.9794\n",
      "Epoch 42/50\n",
      "60000/60000 [==============================] - 5s - loss: 0.0643 - acc: 0.9800 - val_loss: 0.0659 - val_acc: 0.9788\n",
      "Epoch 43/50\n",
      "60000/60000 [==============================] - 6s - loss: 0.0620 - acc: 0.9807 - val_loss: 0.0645 - val_acc: 0.9790\n",
      "Epoch 44/50\n",
      "60000/60000 [==============================] - 5s - loss: 0.0590 - acc: 0.9820 - val_loss: 0.0655 - val_acc: 0.9786\n",
      "Epoch 45/50\n",
      "60000/60000 [==============================] - 5s - loss: 0.0595 - acc: 0.9812 - val_loss: 0.0639 - val_acc: 0.9798\n",
      "Epoch 46/50\n",
      "60000/60000 [==============================] - 5s - loss: 0.0580 - acc: 0.9818 - val_loss: 0.0632 - val_acc: 0.9791\n",
      "Epoch 47/50\n",
      "60000/60000 [==============================] - 6s - loss: 0.0574 - acc: 0.9819 - val_loss: 0.0632 - val_acc: 0.9800\n",
      "Epoch 48/50\n",
      "60000/60000 [==============================] - 5s - loss: 0.0571 - acc: 0.9817 - val_loss: 0.0642 - val_acc: 0.9792\n",
      "Epoch 49/50\n",
      "60000/60000 [==============================] - 5s - loss: 0.0540 - acc: 0.9826 - val_loss: 0.0636 - val_acc: 0.9800\n",
      "Epoch 50/50\n",
      "60000/60000 [==============================] - 7s - loss: 0.0525 - acc: 0.9836 - val_loss: 0.0618 - val_acc: 0.9810\n"
     ]
    }
   ],
   "source": [
    "# フィッティング(学習)\n"
   ]
  },
  {
   "cell_type": "markdown",
   "metadata": {},
   "source": [
    "- `model.evaluate`関数によって現在のモデルの精度が確認できます．"
   ]
  },
  {
   "cell_type": "code",
   "execution_count": 84,
   "metadata": {},
   "outputs": [
    {
     "name": "stdout",
     "output_type": "stream",
     "text": [
      " 9440/10000 [===========================>..] - ETA: 0sTest loss: 0.0618287909696\n",
      "Test accuracy: 0.981\n"
     ]
    }
   ],
   "source": [
    "# テストスコアの計算・表示\n",
    "score = model.evaluate(x_test, y_test, verbose=1)\n",
    "print()\n",
    "print('Test loss:', score[0])\n",
    "print('Test accuracy:', score[1])"
   ]
  },
  {
   "cell_type": "markdown",
   "metadata": {},
   "source": [
    "## 3. モデルの評価"
   ]
  },
  {
   "cell_type": "markdown",
   "metadata": {},
   "source": [
    "## 3-1. 学習過程の可視化"
   ]
  },
  {
   "cell_type": "markdown",
   "metadata": {},
   "source": [
    "- エポックごとのLossとAccuracyを可視化します．\n",
    "- 過学習やUnder Fittingの確認をすることができます．"
   ]
  },
  {
   "cell_type": "code",
   "execution_count": 85,
   "metadata": {},
   "outputs": [
    {
     "data": {
      "image/png": "[encoded data removed]",
      "text/plain": [
       "<matplotlib.figure.Figure at 0x12fe46ba8>"
      ]
     },
     "metadata": {},
     "output_type": "display_data"
    },
    {
     "data": {
      "image/png": "[encoded data removed]",
      "text/plain": [
       "<matplotlib.figure.Figure at 0x130354dd8>"
      ]
     },
     "metadata": {},
     "output_type": "display_data"
    }
   ],
   "source": [
    "loss = history.history['loss']\n",
    "val_loss = history.history['val_loss']\n",
    "\n",
    "acc = history.history['acc']\n",
    "val_acc = history.history['val_acc']\n",
    "\n",
    "plt.figure(figsize=(15,5))\n",
    "plt.title('Loss')\n",
    "epochs = len(loss)\n",
    "plt.plot(range(epochs), loss, marker='.', label='loss')\n",
    "plt.plot(range(epochs), val_loss, marker='.', label='val_loss')\n",
    "plt.legend(loc='best')\n",
    "plt.xlabel('epoch')\n",
    "plt.ylabel('loss')\n",
    "plt.show()\n",
    "\n",
    "plt.figure(figsize=(15,5))\n",
    "plt.title('Accuracy')\n",
    "plt.plot(range(epochs), acc, marker='.', label='acc')\n",
    "plt.plot(range(epochs), val_acc, marker='.', label='val_acc')\n",
    "plt.legend(loc='best')\n",
    "plt.xlabel('epoch')\n",
    "plt.ylabel('acc')\n",
    "plt.show()"
   ]
  },
  {
   "cell_type": "markdown",
   "metadata": {},
   "source": [
    "## 3-2. モデルの保存"
   ]
  },
  {
   "cell_type": "markdown",
   "metadata": {},
   "source": [
    "- `model.save`で，現在のモデルを保存できます．"
   ]
  },
  {
   "cell_type": "code",
   "execution_count": 86,
   "metadata": {
    "collapsed": true
   },
   "outputs": [],
   "source": [
    "model.save(\"nn_mnist.h5\")"
   ]
  },
  {
   "cell_type": "markdown",
   "metadata": {},
   "source": [
    "- 保存したモデルは以下のように呼び出せます．"
   ]
  },
  {
   "cell_type": "code",
   "execution_count": 87,
   "metadata": {
    "collapsed": true
   },
   "outputs": [],
   "source": [
    "# 保存したモデルを読み込む場合は実行\n",
    "# model = keras.models.load_model('./mnist_data.h5')"
   ]
  },
  {
   "cell_type": "markdown",
   "metadata": {},
   "source": [
    "# 4.モデルの利用"
   ]
  },
  {
   "cell_type": "markdown",
   "metadata": {},
   "source": [
    "- 学習したモデルを使って，自由な画像を分類させます．\n",
    "- 画像ファイルの読み込みは`PIL`ライブラリを用います．"
   ]
  },
  {
   "cell_type": "code",
   "execution_count": 88,
   "metadata": {
    "collapsed": true
   },
   "outputs": [],
   "source": [
    "from PIL import Image\n",
    "\n",
    "#画像の読み込み\n",
    "im = Image.open(\"./handwritten_3.jpg\")"
   ]
  },
  {
   "cell_type": "markdown",
   "metadata": {},
   "source": [
    "- 今回はグレースケール画像の学習を行ったため，入力画像もグレースケール変換します．`convert('L')`を用います．\n",
    "- 学習には28x28画像を用いたので，入力画像も同じ解像度に変換します．`resize(28,28)`を用います．\n",
    "- 画像データをnumpy配列に変換します．"
   ]
  },
  {
   "cell_type": "code",
   "execution_count": 92,
   "metadata": {
    "collapsed": true,
    "scrolled": false
   },
   "outputs": [],
   "source": [
    "# 画像を白黒に変換\n",
    "gray_img = im.convert('L')\n",
    "\n",
    "# 画像の解像度を変換\n",
    "gray_img = gray_img.resize((28,28))\n",
    "\n",
    "#画像をarrayに変換\n",
    "im_list = np.array(gray_img, 'f')"
   ]
  },
  {
   "cell_type": "markdown",
   "metadata": {},
   "source": [
    "- 学習には，黒地に白文字の画像を用いたので，入力画像によって白黒反転を行います．"
   ]
  },
  {
   "cell_type": "code",
   "execution_count": 93,
   "metadata": {
    "collapsed": true
   },
   "outputs": [],
   "source": [
    "##白地に黒文字の場合は実行\n",
    "##白黒反転をし，正規化\n",
    "im_list = 1 - im_list/255.\n",
    "\n",
    "##黒地に白文字の場合はそのまま正規化\n",
    "##正規化\n",
    "#im_list = im_list/255."
   ]
  },
  {
   "cell_type": "markdown",
   "metadata": {},
   "source": [
    "- 画像の表示には`plt.imshow`を用います．"
   ]
  },
  {
   "cell_type": "code",
   "execution_count": 94,
   "metadata": {},
   "outputs": [
    {
     "data": {
      "text/plain": [
       "<matplotlib.image.AxesImage at 0x12dcaef28>"
      ]
     },
     "execution_count": 94,
     "metadata": {},
     "output_type": "execute_result"
    },
    {
     "data": {
      "image/png": "[encoded data removed]",
      "text/plain": [
       "<matplotlib.figure.Figure at 0x12cdc2710>"
      ]
     },
     "metadata": {},
     "output_type": "display_data"
    }
   ],
   "source": [
    "#入力画像の表示\n",
    "plt.imshow(im_list,cmap=plt.get_cmap('gray'))"
   ]
  },
  {
   "cell_type": "markdown",
   "metadata": {},
   "source": [
    "- 分類を行います．`model.predict`関数で，各クラスの分類確率を計算できます．\n",
    "- 最後に，最も確率の高いクラスを分類結果として採用します．"
   ]
  },
  {
   "cell_type": "code",
   "execution_count": 95,
   "metadata": {
    "scrolled": false
   },
   "outputs": [
    {
     "name": "stdout",
     "output_type": "stream",
     "text": [
      "[[  3.07963230e-04   2.90294806e-03   1.86356157e-03   9.68424916e-01\n",
      "    2.66746792e-04   1.90542061e-02   3.45393899e-04   8.56599596e-04\n",
      "    4.78001963e-03   1.19757000e-03]]\n",
      "\n",
      "\n",
      "Result: 3\n"
     ]
    }
   ],
   "source": [
    "test = im_list.reshape(1,784)\n",
    "pred = model.predict(test)\n",
    "\n",
    "print(pred)\n",
    "print('\\n')\n",
    "print('Result:',np.argmax(pred[0]))"
   ]
  },
  {
   "cell_type": "code",
   "execution_count": null,
   "metadata": {
    "collapsed": true
   },
   "outputs": [],
   "source": []
  }
 ],
 "metadata": {
  "kernelspec": {
   "display_name": "Python 3",
   "language": "python",
   "name": "python3"
  },
  "language_info": {
   "codemirror_mode": {
    "name": "ipython",
    "version": 3
   },
   "file_extension": ".py",
   "mimetype": "text/x-python",
   "name": "python",
   "nbconvert_exporter": "python",
   "pygments_lexer": "ipython3",
   "version": "3.6.1"
  }
 },
 "nbformat": 4,
 "nbformat_minor": 2
}
